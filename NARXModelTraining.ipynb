{
  "nbformat": 4,
  "nbformat_minor": 0,
  "metadata": {
    "colab": {
      "name": "NARXModelTraining.ipynb",
      "provenance": [],
      "collapsed_sections": [],
      "authorship_tag": "ABX9TyMJBq2TofScffUOfa01d7RQ",
      "include_colab_link": true
    },
    "kernelspec": {
      "name": "python3",
      "display_name": "Python 3"
    },
    "language_info": {
      "name": "python"
    }
  },
  "cells": [
    {
      "cell_type": "markdown",
      "metadata": {
        "id": "view-in-github",
        "colab_type": "text"
      },
      "source": [
        "<a href=\"https://colab.research.google.com/github/olivieromassi/Hysteresis-Modelling-with-Neural-Networks/blob/main/NARXModelTraining.ipynb\" target=\"_parent\"><img src=\"https://colab.research.google.com/assets/colab-badge.svg\" alt=\"Open In Colab\"/></a>"
      ]
    },
    {
      "cell_type": "markdown",
      "source": [
        "Necessary imports to configure the environment."
      ],
      "metadata": {
        "id": "8vQ5fvO08e4-"
      }
    },
    {
      "cell_type": "code",
      "execution_count": 1,
      "metadata": {
        "id": "7svUUR3ToU_D"
      },
      "outputs": [],
      "source": [
        "import tensorflow as tf\n",
        "\n",
        "import pandas as pd\n",
        "import numpy as np\n",
        "import matplotlib.pyplot as plt\n",
        "from sklearn import preprocessing\n",
        "\n",
        "import os\n",
        "import collections\n",
        "import json\n",
        "from google.colab import files\n",
        "\n",
        "SEED = 42\n",
        "\n",
        "tf.random.set_seed(SEED)\n",
        "np.random.seed(SEED)"
      ]
    },
    {
      "cell_type": "markdown",
      "source": [
        "Getting the Dataset from the Github repository:"
      ],
      "metadata": {
        "id": "VKcjGZ3G8jkL"
      }
    },
    {
      "cell_type": "code",
      "source": [
        "!wget https://github.com/olivieromassi/Hysteresis-Modelling-with-Neural-Networks/raw/main/Dataset/P2_measurements.zip\n",
        "!unzip P2_measurements.zip -d P2_measurements"
      ],
      "metadata": {
        "id": "vzZH7zwJpRNr"
      },
      "execution_count": null,
      "outputs": []
    },
    {
      "cell_type": "markdown",
      "source": [
        "The Hysteresis Dataset is downloaded from the Github repository and stored into a dictionary. Each DataFrame is normalized between -1 and 1"
      ],
      "metadata": {
        "id": "sC5Zildo8my1"
      }
    },
    {
      "cell_type": "code",
      "source": [
        "cwd = \"/content/P2_measurements\"\n",
        "\n",
        "# Set the following flag to True to consider the whole Hysteresis Curve, including\n",
        "# the first Magnetization curve.\n",
        "include_first_magnetization = False\n",
        "\n",
        "# The scaler is used to rescale the dataset values between -1 and 1\n",
        "scaler = preprocessing.MinMaxScaler(feature_range=(-1, 1))\n",
        "\n",
        "# Creating a dictionary containing all the measurements divided by frequency\n",
        "dataset = {}\n",
        "columns = [\"t\", \"B\", \"H\", \"-H\"] # t: timestamp, B: Magnetic Flux Density, H: Magnetic Field \n",
        "\n",
        "for file in os.listdir(cwd):\n",
        "    temp_data = pd.read_csv(os.path.join(cwd, file),sep=';', header=None, names=columns)\n",
        "    # Normalizing the Dataset \n",
        "    temp_data_norm = pd.DataFrame(scaler.fit_transform(temp_data[['H', 'B']]), columns=['H', 'B']) \n",
        "    if include_first_magnetization:\n",
        "        dataset[file] = temp_data_norm\n",
        "    else:\n",
        "        # Select only the second half of the curve\n",
        "        dataset[file] = temp_data_norm[int(len(temp_data)/2):].reset_index(drop=True)\n",
        "\n",
        "dataset = collections.OrderedDict(sorted(dataset.items(), key=lambda t: t[1].shape, reverse=True))"
      ],
      "metadata": {
        "id": "oBw_ZXsUpVnT"
      },
      "execution_count": 7,
      "outputs": []
    },
    {
      "cell_type": "markdown",
      "source": [
        "Roll the signals to let them start from the Saturation value (rolling back $1/4$ of a period)"
      ],
      "metadata": {
        "id": "iHI9oOqwlR7i"
      }
    },
    {
      "cell_type": "code",
      "source": [
        "# Set the flag to True to let the signals start from the saturation point\n",
        "start_from_sat = False\n",
        "\n",
        "if start_from_sat:\n",
        "    for freq in dataset:\n",
        "        dataset[freq] = dataset[freq].reindex(np.roll(dataset[freq].index, -len(dataset[freq])//4))"
      ],
      "metadata": {
        "id": "1RlO1Adu55zY"
      },
      "execution_count": 4,
      "outputs": []
    },
    {
      "cell_type": "markdown",
      "source": [
        "Repeat the signals for a fixed number of times and resample them to a new `resample_fs` (audio sampling frequency: $48 kHz, 96 kHz$)"
      ],
      "metadata": {
        "id": "SrAFf0HgDIAH"
      }
    },
    {
      "cell_type": "code",
      "source": [
        "import scipy as sp\n",
        "\"\"\"\n",
        "This method is used to resample the DataFrame signals contained in a dictionary\n",
        ":param data: dictionary containing the curves indexed by frequency\n",
        ":columns: columns of the Dataframe to resample\n",
        ":param repetitions: if greater than one, the represented curve period is repeated\n",
        "multiple times\n",
        ":param resample_fs: frequency to resample the signal to\n",
        ":param fs: starting sampling frequency\n",
        ":return: dictionary containing the resampled curves indexed by frequency\n",
        "\"\"\"\n",
        "def resample_dataset(data, columns, repetitions, resample_fs, fs):\n",
        "    resampled_dataset = collections.OrderedDict()\n",
        "    \n",
        "    for freq in data:\n",
        "        num_sample = len(data[freq]) * repetitions\n",
        "        num_sample_sub = int(num_sample / fs * resample_fs)\n",
        "\n",
        "        resampled_dataset[freq] = pd.DataFrame(sp.signal.resample(np.tile(data[freq], (repetitions, 1)), num_sample_sub), columns=columns)\n",
        "\n",
        "    return resampled_dataset"
      ],
      "metadata": {
        "id": "FzbbEunMDDP3"
      },
      "execution_count": 5,
      "outputs": []
    },
    {
      "cell_type": "code",
      "source": [
        "# Resample the dataset signals:\n",
        "fs = 1e5\n",
        "resample_fs = 96e3 # or 44.1e3, 48e3, 96e3\n",
        "\n",
        "repetitions = 2\n",
        "dataset = resample_dataset(data=dataset, columns=['H', 'B'], repetitions=repetitions, resample_fs=resample_fs, fs=fs)"
      ],
      "metadata": {
        "id": "KRyX8e7EDFED"
      },
      "execution_count": 8,
      "outputs": []
    },
    {
      "cell_type": "markdown",
      "source": [
        "Building the *Training Set*. The median frequency curve (H at 20 Hz) is excluded from training and used for validation purposes."
      ],
      "metadata": {
        "id": "ejzRe-n18vtf"
      }
    },
    {
      "cell_type": "code",
      "source": [
        "train_dataset = collections.OrderedDict()\n",
        "\n",
        "for freq in dataset:\n",
        "    if freq != 'P2_20Hz.CSV':\n",
        "        train_dataset[freq] = dataset[freq]"
      ],
      "metadata": {
        "id": "pdXweBQGpgNV"
      },
      "execution_count": 10,
      "outputs": []
    },
    {
      "cell_type": "markdown",
      "source": [
        "Building the *Validation Set*. It includes the 20 Hz curve."
      ],
      "metadata": {
        "id": "T-4MrS-28ycr"
      }
    },
    {
      "cell_type": "code",
      "source": [
        "val_dataset = collections.OrderedDict()\n",
        "\n",
        "for freq in dataset:\n",
        "    if freq == 'P2_20Hz.CSV':\n",
        "        val_dataset[freq] = dataset[freq]"
      ],
      "metadata": {
        "id": "YNssHviTpiLR"
      },
      "execution_count": 11,
      "outputs": []
    },
    {
      "cell_type": "markdown",
      "source": [
        "# NARX Model Training:\n",
        "This notebook contains the preliminary tests: different strategies to train the NARX are here explored, trying to understand how to proceed."
      ],
      "metadata": {
        "id": "bDQAfmYS82jN"
      }
    },
    {
      "cell_type": "code",
      "source": [
        "# Defining some of the Network and Sequence parameters:\n",
        "# For training purposes, the sequence length is fixed to 20\n",
        "seq_len = 20\n",
        "n_train_signals = len(train_dataset)"
      ],
      "metadata": {
        "id": "DbquVVZ_pkla"
      },
      "execution_count": 12,
      "outputs": []
    },
    {
      "cell_type": "markdown",
      "source": [
        "The WindowGenerator Class can:\n",
        "\n",
        "1. Handle the indexes and offsets.\n",
        "2. Split windows of features into (features, labels) pairs.\n",
        "3. Efficiently generate batches of these windows from the training, evaluation, and test data, using `tf.data.Datasets`.\n",
        "\n",
        "The following code is inspired from https://www.tensorflow.org/tutorials/structured_data/time_series"
      ],
      "metadata": {
        "id": "vBCLKF4Gpw7u"
      }
    },
    {
      "cell_type": "code",
      "source": [
        "class WindowGenerator():\n",
        "    def __init__(self, input_width, label_width, shift,\n",
        "               label_columns=None, feature_columns=None, columns=None, \n",
        "               sequence_stride=1, batch_size=1):\n",
        "\n",
        "        # Work out the label column indices.\n",
        "        self.label_columns = label_columns\n",
        "        if label_columns is not None:\n",
        "            self.label_column_indices = {name: i for i, name in\n",
        "                                        enumerate(label_columns)}\n",
        "        self.feature_columns = feature_columns\n",
        "        self.column_indices = {name: i for i, name in\n",
        "                           enumerate(columns)}\n",
        "\n",
        "        # Work out the window parameters.\n",
        "        self.input_width = input_width\n",
        "        self.label_width = label_width\n",
        "        self.shift = shift\n",
        "\n",
        "        self.total_window_size = input_width + shift\n",
        "\n",
        "        self.input_slice = slice(0, input_width)\n",
        "        self.input_indices = np.arange(self.total_window_size)[self.input_slice]\n",
        "\n",
        "        self.label_start = self.total_window_size - self.label_width\n",
        "        self.labels_slice = slice(self.label_start, None)\n",
        "        self.label_indices = np.arange(self.total_window_size)[self.labels_slice]\n",
        "\n",
        "        self.batch_size = batch_size\n",
        "        self.sequence_stride = sequence_stride\n",
        "\n",
        "    def __repr__(self):\n",
        "        return '\\n'.join([\n",
        "            f'Total window size: {self.total_window_size}',\n",
        "            f'Input indices: {self.input_indices}',\n",
        "            f'Label indices: {self.label_indices}',\n",
        "            f'Label column name(s): {self.label_columns}'])\n",
        "        \n",
        "    def split_window(self, features):\n",
        "        inputs = features[:, self.input_slice, :]\n",
        "        labels = features[:, self.labels_slice, :]\n",
        "        if self.label_columns is not None:\n",
        "            labels = tf.stack(\n",
        "                [labels[:, :, self.column_indices[name]] for name in self.label_columns],\n",
        "                axis=-1)\n",
        "        # This customization allows to select the features to use as input, by properly setting\n",
        "        # the feature_columns argument   \n",
        "        if self.feature_columns is not None:\n",
        "            inputs = tf.stack(\n",
        "                [inputs[:, :, self.column_indices[name]] for name in self.feature_columns],\n",
        "                axis=-1)\n",
        "        # Slicing doesn't preserve static shape information, so set the shapes\n",
        "        # manually. This way the `tf.data.Datasets` are easier to inspect.\n",
        "        inputs.set_shape([None, self.input_width, None])\n",
        "        labels.set_shape([None, self.label_width, None])\n",
        "\n",
        "        return inputs, labels\n",
        "\n",
        "    def make_dataset(self, data):\n",
        "        data = np.array(data, dtype=np.float32)\n",
        "        ds = tf.keras.preprocessing.timeseries_dataset_from_array(\n",
        "                data=data,\n",
        "                targets=None,\n",
        "                sequence_length=self.total_window_size,\n",
        "                sequence_stride=self.sequence_stride,\n",
        "                shuffle=False,\n",
        "                batch_size=self.batch_size)\n",
        "\n",
        "        ds = ds.map(self.split_window)\n",
        "\n",
        "        return ds"
      ],
      "metadata": {
        "id": "W9TK0tQbp1c5"
      },
      "execution_count": 13,
      "outputs": []
    },
    {
      "cell_type": "markdown",
      "source": [
        "The window extracts sequences spaced one sample:\n",
        "```\n",
        "[[sample[t0], sample[t1], ... sample[t_seq_len]], [sample[t1], sample[t2], ..., sample[t_seq_len + 1]], ...]\n",
        "\n",
        "```"
      ],
      "metadata": {
        "id": "Hf6pih1p9UID"
      }
    },
    {
      "cell_type": "code",
      "source": [
        "# Setting the batch generation parameters\n",
        "seq_per_signal = 4\n",
        "\n",
        "# Setting the Window Generator parameters\n",
        "win_batch_size = 1 # Internal batch_size for the Window Generator\n",
        "sequence_stride = 1 # Sample distance between successive sequences\n",
        "seq_len = 20 # The length of the Input Sequence\n",
        "label_width = seq_len # The length of the Label Sequence\n",
        "\n",
        "# Instantiating a window class\n",
        "sequence_window = WindowGenerator(\n",
        "    input_width=seq_len, label_width=label_width, shift=0,\n",
        "    label_columns=['B'], feature_columns=['H'], columns=['H', 'B'],\n",
        "    sequence_stride=sequence_stride, batch_size=win_batch_size)\n",
        "\n",
        "sequence_window"
      ],
      "metadata": {
        "id": "LfwZC70Cp39_",
        "colab": {
          "base_uri": "https://localhost:8080/"
        },
        "outputId": "0b72fa7b-ec4a-4892-94d3-649bcaff4a7b"
      },
      "execution_count": 14,
      "outputs": [
        {
          "output_type": "execute_result",
          "data": {
            "text/plain": [
              "Total window size: 20\n",
              "Input indices: [ 0  1  2  3  4  5  6  7  8  9 10 11 12 13 14 15 16 17 18 19]\n",
              "Label indices: [ 0  1  2  3  4  5  6  7  8  9 10 11 12 13 14 15 16 17 18 19]\n",
              "Label column name(s): ['B']"
            ]
          },
          "metadata": {},
          "execution_count": 14
        }
      ]
    },
    {
      "cell_type": "markdown",
      "source": [
        "## Training Set"
      ],
      "metadata": {
        "id": "7wUf77fE4kpb"
      }
    },
    {
      "cell_type": "code",
      "source": [
        "x_data_list = []\n",
        "y_data_list = []\n",
        "\n",
        "def get_x_data(features, labels):\n",
        "    return (tf.squeeze(features, axis=0), tf.squeeze(labels[:, :-1, :], axis=0))\n",
        "\n",
        "def get_y_data(features, labels):\n",
        "    return tf.squeeze(labels[:, -1, :], axis=0)\n",
        "\n",
        "def concat(*ds_elements):\n",
        "    if type(ds_elements[0]) is tuple:\n",
        "        #Create one empty list for each component of the dataset\n",
        "        lists = [[] for _ in ds_elements[0]]\n",
        "        for element in ds_elements:\n",
        "            for i, tensor in enumerate(element):\n",
        "                #For each element, add all its component to the associated list\n",
        "                lists[i].append(tensor)\n",
        "                #Concatenate each component list\n",
        "        return tuple(tf.concat(l, axis=0) for l in lists)\n",
        "    else:\n",
        "        return tf.concat(ds_elements, axis=0)\n",
        "\n",
        "for freq in train_dataset:\n",
        "    x_data_list.append(sequence_window.make_dataset(train_dataset[freq])\n",
        "            .map(get_x_data)\n",
        "            .shuffle(buffer_size=len(train_dataset[freq]), seed=SEED, reshuffle_each_iteration=True)\n",
        "            .batch(seq_per_signal, drop_remainder=True)\n",
        "            .repeat())\n",
        "    y_data_list.append(sequence_window.make_dataset(train_dataset[freq])\n",
        "            .map(get_y_data)\n",
        "            .shuffle(buffer_size=len(train_dataset[freq]), seed=SEED, reshuffle_each_iteration=True)\n",
        "            .batch(seq_per_signal, drop_remainder=True)\n",
        "            .repeat())\n",
        "\n",
        "train_x_data = tf.data.Dataset.zip(tuple(x_data_list))\n",
        "train_x_data = train_x_data.map(concat)\n",
        "\n",
        "train_y_data = tf.data.Dataset.zip(tuple(y_data_list))\n",
        "train_y_data = train_y_data.map(concat)\n",
        "\n",
        "train_data = tf.data.Dataset.zip((train_x_data, train_y_data))"
      ],
      "metadata": {
        "id": "8F9yUZRS4jby"
      },
      "execution_count": 15,
      "outputs": []
    },
    {
      "cell_type": "code",
      "source": [
        "# Instantiating an iterator over the training dataset\n",
        "iterator = iter(train_data)  "
      ],
      "metadata": {
        "id": "Fh74but8p8GJ"
      },
      "execution_count": null,
      "outputs": []
    },
    {
      "cell_type": "code",
      "source": [
        "features, labels = next(iterator)\n",
        "print(\"Features batch:\" + str(features))\n",
        "print(\"Labels batch:\" + str(labels))"
      ],
      "metadata": {
        "id": "IhH-kwaap-FO"
      },
      "execution_count": null,
      "outputs": []
    },
    {
      "cell_type": "markdown",
      "source": [
        "## Validation Set"
      ],
      "metadata": {
        "id": "e3ylBpWCD1x-"
      }
    },
    {
      "cell_type": "code",
      "source": [
        "x_data_list = []\n",
        "y_data_list = []\n",
        "\n",
        "def get_x_data(features, labels):\n",
        "    return (features, labels[:, :-1, :])\n",
        "\n",
        "def get_y_data(features, labels):\n",
        "    return labels[:, -1, :]\n",
        "\n",
        "for freq in val_dataset:\n",
        "    x_data_list.append(sequence_window.make_dataset(val_dataset[freq]).map(get_x_data))\n",
        "    y_data_list.append(sequence_window.make_dataset(val_dataset[freq]).map(get_y_data))\n",
        "\n",
        "val_x_data = tf.data.Dataset.zip(tuple(x_data_list))\n",
        "val_x_data = val_x_data.map(concat)\n",
        "\n",
        "val_y_data = tf.data.Dataset.zip(tuple(y_data_list))\n",
        "val_y_data = val_y_data.map(concat)\n",
        "\n",
        "val_data = tf.data.Dataset.zip((val_x_data, val_y_data))"
      ],
      "metadata": {
        "id": "NbcP83CUD3oZ"
      },
      "execution_count": 16,
      "outputs": []
    },
    {
      "cell_type": "code",
      "source": [
        "# Instantiating an iterator over the validation dataset\n",
        "iterator = iter(val_data)  "
      ],
      "metadata": {
        "id": "qfBNk0M8ueqV"
      },
      "execution_count": null,
      "outputs": []
    },
    {
      "cell_type": "code",
      "source": [
        "features, labels = next(iterator)\n",
        "print(\"Features batch:\" + str(features))\n",
        "print(\"Labels batch:\" + str(labels))"
      ],
      "metadata": {
        "id": "ll0vtgUWuiMR"
      },
      "execution_count": null,
      "outputs": []
    },
    {
      "cell_type": "markdown",
      "source": [
        "Defining the Narx Model (Parallel-Series Architecture)"
      ],
      "metadata": {
        "id": "Qsht0EF8tIsM"
      }
    },
    {
      "cell_type": "code",
      "source": [
        "# Number of previous inputs\n",
        "K = 20\n",
        "# Number of previous outputs\n",
        "H = 20\n",
        "\n",
        "# Number of layers\n",
        "L = 4\n",
        "# Units per layer\n",
        "A = [10, 10, 10, 10]\n",
        "\n",
        "train_batch_size = n_train_signals * seq_per_signal\n",
        "\n",
        "u = tf.keras.layers.Input(shape=(K), batch_size=train_batch_size, name='u')\n",
        "y = tf.keras.layers.Input(shape=(H-1), batch_size=train_batch_size, name='y')\n",
        "\n",
        "concatenate = tf.keras.layers.concatenate([u, y], name='InputLayer', axis=-1)\n",
        "\n",
        "for i in range(L):\n",
        "    if i == 0:\n",
        "        layer = tf.keras.layers.Dense(units=A[i], \n",
        "                                      activation=\"tanh\",\n",
        "                                      name=f'Dense_Layer_{i+1}')(concatenate)\n",
        "    else:\n",
        "        layer = tf.keras.layers.Dense(units=A[i],\n",
        "                                      activation=\"tanh\",\n",
        "                                      name=f'Dense_Layer_{i+1}')(layer)\n",
        "\n",
        "outputs = tf.keras.layers.Dense(1, activation='linear', name='OutputLayer')(layer)\n",
        "\n",
        "model = tf.keras.Model(inputs=[u, y], outputs=outputs, name='NARX')\n",
        "model.summary()\n",
        "\n",
        "tf.keras.utils.plot_model(model, show_shapes=True)"
      ],
      "metadata": {
        "colab": {
          "base_uri": "https://localhost:8080/",
          "height": 1000
        },
        "id": "w6n_hhyBs6KM",
        "outputId": "c4648a05-9a36-495e-c1c0-0eb709a4aa5b"
      },
      "execution_count": 17,
      "outputs": [
        {
          "output_type": "stream",
          "name": "stdout",
          "text": [
            "Model: \"NARX\"\n",
            "__________________________________________________________________________________________________\n",
            " Layer (type)                   Output Shape         Param #     Connected to                     \n",
            "==================================================================================================\n",
            " u (InputLayer)                 [(40, 20)]           0           []                               \n",
            "                                                                                                  \n",
            " y (InputLayer)                 [(40, 19)]           0           []                               \n",
            "                                                                                                  \n",
            " InputLayer (Concatenate)       (40, 39)             0           ['u[0][0]',                      \n",
            "                                                                  'y[0][0]']                      \n",
            "                                                                                                  \n",
            " Dense_Layer_1 (Dense)          (40, 10)             400         ['InputLayer[0][0]']             \n",
            "                                                                                                  \n",
            " Dense_Layer_2 (Dense)          (40, 10)             110         ['Dense_Layer_1[0][0]']          \n",
            "                                                                                                  \n",
            " Dense_Layer_3 (Dense)          (40, 10)             110         ['Dense_Layer_2[0][0]']          \n",
            "                                                                                                  \n",
            " Dense_Layer_4 (Dense)          (40, 10)             110         ['Dense_Layer_3[0][0]']          \n",
            "                                                                                                  \n",
            " OutputLayer (Dense)            (40, 1)              11          ['Dense_Layer_4[0][0]']          \n",
            "                                                                                                  \n",
            "==================================================================================================\n",
            "Total params: 741\n",
            "Trainable params: 741\n",
            "Non-trainable params: 0\n",
            "__________________________________________________________________________________________________\n"
          ]
        },
        {
          "output_type": "execute_result",
          "data": {
            "image/png": "[encoded data removed]",
            "text/plain": [
              "<IPython.core.display.Image object>"
            ]
          },
          "metadata": {},
          "execution_count": 17
        }
      ]
    },
    {
      "cell_type": "code",
      "source": [
        "# Optimization parameters\n",
        "\n",
        "# Mean Squared Error for Regression\n",
        "loss = tf.keras.losses.MSE \n",
        "# Learning rate\n",
        "lr = 1e-3\n",
        "optimizer = tf.keras.optimizers.Adam(learning_rate=lr)\n",
        "\n",
        "# Validation metrics\n",
        "metrics = [tf.metrics.MeanAbsoluteError(), tf.metrics.RootMeanSquaredError()]"
      ],
      "metadata": {
        "id": "LsFCSUnAeFUH"
      },
      "execution_count": 18,
      "outputs": []
    },
    {
      "cell_type": "code",
      "source": [
        "# Compile Model\n",
        "model.compile(loss=loss, optimizer=optimizer, metrics=metrics)"
      ],
      "metadata": {
        "id": "u4bv3wsceG4k"
      },
      "execution_count": 19,
      "outputs": []
    },
    {
      "cell_type": "markdown",
      "source": [
        "### Batch Training:\n",
        "(`n_train_signals × seq_per_signal` sequences per batch, with `seq_per_signal` sequences for each frequency)\n",
        "\n",
        "*Series-Parallel Architecture Training*: K input values and (H - 1) output values are used to predict the next output value"
      ],
      "metadata": {
        "id": "1tsNP7Xu6kt0"
      }
    },
    {
      "cell_type": "code",
      "source": [
        "# Training over all the dataset:\n",
        "\n",
        "# Setting the number of training epochs\n",
        "num_epochs = 10\n",
        "# Setting the number of steps per each epoch\n",
        "steps_per_epoch = 20000\n",
        "\n",
        "model.fit(train_data, epochs=num_epochs, steps_per_epoch=steps_per_epoch)"
      ],
      "metadata": {
        "id": "KmTuz3t56ArT",
        "colab": {
          "base_uri": "https://localhost:8080/"
        },
        "outputId": "3bc27174-2dde-4269-dfa3-e36f0b234385"
      },
      "execution_count": 20,
      "outputs": [
        {
          "output_type": "stream",
          "name": "stdout",
          "text": [
            "Epoch 1/10\n",
            "20000/20000 [==============================] - 337s 9ms/step - loss: 9.1680e-05 - mean_absolute_error: 0.0055 - root_mean_squared_error: 0.0096\n",
            "Epoch 2/10\n",
            "20000/20000 [==============================] - 193s 10ms/step - loss: 1.3594e-05 - mean_absolute_error: 0.0028 - root_mean_squared_error: 0.0037\n",
            "Epoch 3/10\n",
            "20000/20000 [==============================] - 236s 12ms/step - loss: 1.0606e-05 - mean_absolute_error: 0.0025 - root_mean_squared_error: 0.0033\n",
            "Epoch 4/10\n",
            "20000/20000 [==============================] - 192s 10ms/step - loss: 9.1321e-06 - mean_absolute_error: 0.0023 - root_mean_squared_error: 0.0030\n",
            "Epoch 5/10\n",
            "20000/20000 [==============================] - 317s 16ms/step - loss: 8.4548e-06 - mean_absolute_error: 0.0022 - root_mean_squared_error: 0.0029\n",
            "Epoch 6/10\n",
            "20000/20000 [==============================] - 199s 10ms/step - loss: 7.6352e-06 - mean_absolute_error: 0.0021 - root_mean_squared_error: 0.0028\n",
            "Epoch 7/10\n",
            "20000/20000 [==============================] - 170s 9ms/step - loss: 7.1752e-06 - mean_absolute_error: 0.0020 - root_mean_squared_error: 0.0027\n",
            "Epoch 8/10\n",
            "20000/20000 [==============================] - 235s 12ms/step - loss: 6.7545e-06 - mean_absolute_error: 0.0020 - root_mean_squared_error: 0.0026\n",
            "Epoch 9/10\n",
            "20000/20000 [==============================] - 193s 10ms/step - loss: 6.1692e-06 - mean_absolute_error: 0.0019 - root_mean_squared_error: 0.0025\n",
            "Epoch 10/10\n",
            "20000/20000 [==============================] - 326s 16ms/step - loss: 5.9656e-06 - mean_absolute_error: 0.0018 - root_mean_squared_error: 0.0024\n"
          ]
        },
        {
          "output_type": "execute_result",
          "data": {
            "text/plain": [
              "<keras.callbacks.History at 0x7f357e05a3d0>"
            ]
          },
          "metadata": {},
          "execution_count": 20
        }
      ]
    },
    {
      "cell_type": "markdown",
      "source": [
        "## Save the Model Weights"
      ],
      "metadata": {
        "id": "RrcF0ptiBM9l"
      }
    },
    {
      "cell_type": "markdown",
      "source": [
        "Set the model's name and save it"
      ],
      "metadata": {
        "id": "d8Z32jp5BQDu"
      }
    },
    {
      "cell_type": "code",
      "source": [
        "filename = f'NARX_seq_len={seq_len}_num_epochs={num_epochs}.h5'\n",
        "\n",
        "# Saving the model weights\n",
        "model.save_weights(filename, save_format='h5')\n",
        "\n",
        "files.download(filename)"
      ],
      "metadata": {
        "id": "zXq_ZWdepHC_",
        "colab": {
          "base_uri": "https://localhost:8080/",
          "height": 17
        },
        "outputId": "7036ab1d-7564-4335-bd53-7d9549681222"
      },
      "execution_count": 21,
      "outputs": [
        {
          "output_type": "display_data",
          "data": {
            "application/javascript": [
              "\n",
              "    async function download(id, filename, size) {\n",
              "      if (!google.colab.kernel.accessAllowed) {\n",
              "        return;\n",
              "      }\n",
              "      const div = document.createElement('div');\n",
              "      const label = document.createElement('label');\n",
              "      label.textContent = `Downloading \"${filename}\": `;\n",
              "      div.appendChild(label);\n",
              "      const progress = document.createElement('progress');\n",
              "      progress.max = size;\n",
              "      div.appendChild(progress);\n",
              "      document.body.appendChild(div);\n",
              "\n",
              "      const buffers = [];\n",
              "      let downloaded = 0;\n",
              "\n",
              "      const channel = await google.colab.kernel.comms.open(id);\n",
              "      // Send a message to notify the kernel that we're ready.\n",
              "      channel.send({})\n",
              "\n",
              "      for await (const message of channel.messages) {\n",
              "        // Send a message to notify the kernel that we're ready.\n",
              "        channel.send({})\n",
              "        if (message.buffers) {\n",
              "          for (const buffer of message.buffers) {\n",
              "            buffers.push(buffer);\n",
              "            downloaded += buffer.byteLength;\n",
              "            progress.value = downloaded;\n",
              "          }\n",
              "        }\n",
              "      }\n",
              "      const blob = new Blob(buffers, {type: 'application/binary'});\n",
              "      const a = document.createElement('a');\n",
              "      a.href = window.URL.createObjectURL(blob);\n",
              "      a.download = filename;\n",
              "      div.appendChild(a);\n",
              "      a.click();\n",
              "      div.remove();\n",
              "    }\n",
              "  "
            ],
            "text/plain": [
              "<IPython.core.display.Javascript object>"
            ]
          },
          "metadata": {}
        },
        {
          "output_type": "display_data",
          "data": {
            "application/javascript": [
              "download(\"download_090c9bc6-a089-48c8-9cfc-4fe7fd9759a8\", \"NARX_seq_len=20_num_epochs=10.h5\", 27336)"
            ],
            "text/plain": [
              "<IPython.core.display.Javascript object>"
            ]
          },
          "metadata": {}
        }
      ]
    },
    {
      "cell_type": "markdown",
      "source": [
        "## Prediction Model:"
      ],
      "metadata": {
        "id": "HY_NvW0UpBsj"
      }
    },
    {
      "cell_type": "code",
      "source": [
        "# Number of previous inputs\n",
        "K = 20\n",
        "# Number of previous outputs\n",
        "H = 20\n",
        "\n",
        "# Number of layers\n",
        "L = 4\n",
        "# Units per layer\n",
        "A = [10, 10, 10, 10]\n",
        "\n",
        "pred_batch_size = 1\n",
        "\n",
        "u = tf.keras.layers.Input(shape=(K), batch_size=pred_batch_size, name='u')\n",
        "y = tf.keras.layers.Input(shape=(H-1), batch_size=pred_batch_size, name='y')\n",
        "\n",
        "concatenate = tf.keras.layers.concatenate([u, y], name='InputLayer', axis=-1)\n",
        "\n",
        "for i in range(L):\n",
        "    if i == 0:\n",
        "        layer = tf.keras.layers.Dense(units=A[i],\n",
        "                                      activation=\"tanh\",\n",
        "                                      name=f'Dense_Layer_{i+1}')(concatenate)\n",
        "    else:\n",
        "        layer = tf.keras.layers.Dense(units=A[i],\n",
        "                                      activation=\"tanh\",\n",
        "                                      name=f'Dense_Layer_{i+1}')(layer)\n",
        "\n",
        "outputs = tf.keras.layers.Dense(1, activation='linear', name='OutputLayer')(layer)\n",
        "\n",
        "prediction_model = tf.keras.Model(inputs=[u, y], outputs=outputs, name='NARX')\n",
        "prediction_model.summary()\n",
        "\n",
        "\n",
        "tf.keras.utils.plot_model(prediction_model, show_shapes=True)"
      ],
      "metadata": {
        "colab": {
          "base_uri": "https://localhost:8080/",
          "height": 1000
        },
        "id": "SQOnk1iqo2pZ",
        "outputId": "29a913c0-6860-4b33-9367-8603a32a5c4f"
      },
      "execution_count": 22,
      "outputs": [
        {
          "output_type": "stream",
          "name": "stdout",
          "text": [
            "Model: \"NARX\"\n",
            "__________________________________________________________________________________________________\n",
            " Layer (type)                   Output Shape         Param #     Connected to                     \n",
            "==================================================================================================\n",
            " u (InputLayer)                 [(1, 20)]            0           []                               \n",
            "                                                                                                  \n",
            " y (InputLayer)                 [(1, 19)]            0           []                               \n",
            "                                                                                                  \n",
            " InputLayer (Concatenate)       (1, 39)              0           ['u[0][0]',                      \n",
            "                                                                  'y[0][0]']                      \n",
            "                                                                                                  \n",
            " Dense_Layer_1 (Dense)          (1, 10)              400         ['InputLayer[0][0]']             \n",
            "                                                                                                  \n",
            " Dense_Layer_2 (Dense)          (1, 10)              110         ['Dense_Layer_1[0][0]']          \n",
            "                                                                                                  \n",
            " Dense_Layer_3 (Dense)          (1, 10)              110         ['Dense_Layer_2[0][0]']          \n",
            "                                                                                                  \n",
            " Dense_Layer_4 (Dense)          (1, 10)              110         ['Dense_Layer_3[0][0]']          \n",
            "                                                                                                  \n",
            " OutputLayer (Dense)            (1, 1)               11          ['Dense_Layer_4[0][0]']          \n",
            "                                                                                                  \n",
            "==================================================================================================\n",
            "Total params: 741\n",
            "Trainable params: 741\n",
            "Non-trainable params: 0\n",
            "__________________________________________________________________________________________________\n"
          ]
        },
        {
          "output_type": "execute_result",
          "data": {
            "image/png": "[encoded data removed]",
            "text/plain": [
              "<IPython.core.display.Image object>"
            ]
          },
          "metadata": {},
          "execution_count": 22
        }
      ]
    },
    {
      "cell_type": "markdown",
      "source": [
        "Take the weights from the just trained model:"
      ],
      "metadata": {
        "id": "rGMWBpvPBfiA"
      }
    },
    {
      "cell_type": "code",
      "source": [
        "prediction_model.load_weights(filename, by_name=False, skip_mismatch=False)"
      ],
      "metadata": {
        "id": "dniP2PPkpT7Z"
      },
      "execution_count": 23,
      "outputs": []
    },
    {
      "cell_type": "markdown",
      "source": [
        "The following method is used to plot model predictions vs. ground truth, with some additional metrics as MSE and MAE."
      ],
      "metadata": {
        "id": "XzRzItJoBjkB"
      }
    },
    {
      "cell_type": "code",
      "source": [
        "from sklearn.metrics import mean_squared_error, mean_absolute_error\n",
        "from matplotlib.offsetbox import AnchoredText\n",
        "\n",
        "def plot_prediction(prediction, ground_truth, input_signal, frequency):\n",
        "\n",
        "    MSE = mean_squared_error(y_true=ground_truth, y_pred=prediction)\n",
        "    MAE = mean_absolute_error(y_true=ground_truth, y_pred=prediction)\n",
        "\n",
        "    fig, (ax1, ax2) = plt.subplots(1, 2, figsize=(10, 5))\n",
        "    fig.suptitle(frequency)\n",
        "\n",
        "    ax1.set_title('Prediction')\n",
        "    ax1.scatter(input_signal, prediction)\n",
        "    ax1.grid(True)\n",
        "    anchored_text = AnchoredText('MSE:' + str(round(MSE, 6)) + '\\n' + 'MAE:' + str(round(MAE, 6)), loc=2)\n",
        "    ax1.add_artist(anchored_text)\n",
        "\n",
        "    ax2.set_title('Ground Truth')\n",
        "    ax2.scatter(input_signal, ground_truth, c='orange')\n",
        "    ax2.grid(True)"
      ],
      "metadata": {
        "id": "eGBDj0rtE9Oo"
      },
      "execution_count": 24,
      "outputs": []
    },
    {
      "cell_type": "markdown",
      "source": [
        "### *Parallel-Series* Architecture Prediction (Open Loop):"
      ],
      "metadata": {
        "id": "gZUVgcZdEOIG"
      }
    },
    {
      "cell_type": "code",
      "source": [
        "predictions = prediction_model.predict(val_data)\n",
        "\n",
        "plot_prediction(predictions, val_dataset['P2_20Hz.CSV']['B'][seq_len - 1:], val_dataset['P2_20Hz.CSV']['H'][seq_len - 1:], 'P2_20Hz.CSV')"
      ],
      "metadata": {
        "id": "fXVRwETAa5qP",
        "colab": {
          "base_uri": "https://localhost:8080/",
          "height": 356
        },
        "outputId": "7ed8a9e4-1601-4f1e-984f-eacd0b2165c8"
      },
      "execution_count": 25,
      "outputs": [
        {
          "output_type": "display_data",
          "data": {
            "image/png": "[encoded data removed]",
            "text/plain": [
              "<Figure size 720x360 with 2 Axes>"
            ]
          },
          "metadata": {
            "needs_background": "light"
          }
        }
      ]
    },
    {
      "cell_type": "markdown",
      "source": [
        "### *Parallel* Architecture Prediction (Close Loop):"
      ],
      "metadata": {
        "id": "yp_xDiAn63vL"
      }
    },
    {
      "cell_type": "code",
      "source": [
        "############# DEBUG ###############\n",
        "## PREDICTIONS OVER VALIDATION DATA #\n",
        "\n",
        "# Instantiating the Network Input Delay Lines\n",
        "u = np.zeros((K, 1))\n",
        "y = np.zeros((H - 1, 1))\n",
        "\n",
        "# Testing the model on the validation data, to have an idea of what it is learning\n",
        "model_predictions = {}\n",
        "y_pred = []\n",
        "\n",
        "for freq in val_dataset:\n",
        "    x_signal = np.array(val_dataset[freq][['H']])\n",
        "    y_true = np.array(val_dataset[freq][['B']])\n",
        "\n",
        "    u = x_signal[:K]\n",
        "    y = y_true[:H - 1]\n",
        "\n",
        "    for i in range(K, len(x_signal)):\n",
        "        prediction = prediction_model.predict([np.expand_dims(u, axis=0), np.expand_dims(y, axis=0)])\n",
        "\n",
        "        # Rotating the circular buffers after each prediction\n",
        "        u = np.roll(u, -1)\n",
        "        u[-1] = x_signal[i]\n",
        "\n",
        "        y = np.roll(y, -1)\n",
        "        y[-1] = prediction\n",
        "\n",
        "        y_pred.append(prediction)\n",
        "        \n",
        "    # Reshape batch predictions into a single array\n",
        "    y_pred = np.array(y_pred).reshape(-1, 1)\n",
        "\n",
        "    # Store predictions into a dict to be written as a file\n",
        "    model_predictions[freq] = y_pred.tolist()\n",
        "    \n",
        "    plot_prediction(y_pred, y_true[seq_len:], x_signal[seq_len:], freq)"
      ],
      "metadata": {
        "id": "j9g4_2di42Ag",
        "colab": {
          "base_uri": "https://localhost:8080/",
          "height": 356
        },
        "outputId": "9eb52321-1115-4f20-e490-ecc23998c71c"
      },
      "execution_count": 26,
      "outputs": [
        {
          "output_type": "display_data",
          "data": {
            "image/png": "[encoded data removed]",
            "text/plain": [
              "<Figure size 720x360 with 2 Axes>"
            ]
          },
          "metadata": {
            "needs_background": "light"
          }
        }
      ]
    }
  ]
}