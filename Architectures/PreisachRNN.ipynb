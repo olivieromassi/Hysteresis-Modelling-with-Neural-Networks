{
  "nbformat": 4,
  "nbformat_minor": 0,
  "metadata": {
    "colab": {
      "name": "PreisachRNN.ipynb",
      "provenance": []
    },
    "kernelspec": {
      "name": "python3",
      "display_name": "Python 3"
    },
    "language_info": {
      "name": "python"
    }
  },
  "cells": [
    {
      "cell_type": "code",
      "metadata": {
        "id": "x7-pZXUkhx0q"
      },
      "source": [
        "import tensorflow as tf\n",
        "\n",
        "import pandas as pd\n",
        "import numpy as np\n",
        "import matplotlib.pyplot as plt\n",
        "from sklearn import preprocessing\n",
        "\n",
        "import os\n",
        "import collections\n",
        "import json\n",
        "from google.colab import files"
      ],
      "execution_count": 2,
      "outputs": []
    },
    {
      "cell_type": "code",
      "metadata": {
        "id": "_sZTlkAbjcWo"
      },
      "source": [
        "class PreisachMemoryLayer(tf.keras.layers.Layer):\n",
        "    def __init__(self, n_operators, **kwargs):\n",
        "        super(PreisachMemoryLayer, self).__init__(name=\"PreisachMemoryLayer\", **kwargs)\n",
        "        self.n_operators = n_operators\n",
        "        self.first_batch = True\n",
        "    \n",
        "    def build(self, input_shape):\n",
        "        # TODO: check dimensionality of the tensors, most probably they are wrong\n",
        "        # Change the last dimension of input_shape to be n_operators\n",
        "        self.input_dim = input_shape\n",
        "        self.play_operators = np.zeros((input_shape[0], input_shape[1], self.n_operators)) # tf.zeros((input_shape)) # Fix the Data Structure\n",
        "        self.prev_play_operators = np.zeros((input_shape[0], 1, self.n_operators)) # tf.zeros((input_shape)) # Fix the Data Structure\n",
        "        self.r = np.zeros(self.n_operators)\n",
        "        \n",
        "        for j in range(self.n_operators):\n",
        "            # Since the input signal is normalized between -1 and 1, these are also min and max\n",
        "            self.r[j] = (j / self.n_operators) * (1 - (-1))\n",
        "        \n",
        "    def call(self, inputs):\n",
        "        # TODO: Check dimensions of all the data structure, verify if the code is fine for stateful = False\n",
        "        # TODO: Extend the code to work with stateful = True, using the Play Operators of the previous batch\n",
        "        # TODO: Check if it is possible to remove the external loop over the batches\n",
        "        for b in range(self.input_dim[0]):\n",
        "            for t in range(self.input_dim[1]):\n",
        "                for j in range(self.n_operators):\n",
        "                    if t == 0:\n",
        "                        if self.first_batch:\n",
        "                            # TODO: FIX the dimensions for the array assignments?\n",
        "                            self.play_operators[b, t, j] = np.maximum(inputs[b, t] - self.r[j], np.minimum(inputs[b, t] + self.r[j], 0)) # <-- The zero must be a Tensor with proper dimensions!\n",
        "                        else:\n",
        "                            self.play_operators[b, t, j] = np.maximum(inputs[b, t] - self.r[j], np.minimum(inputs[b, t] + self.r[j], self.prev_play_operators[b, 0, j]))\n",
        "                    else:\n",
        "                        self.play_operators[b, t, j] = np.maximum(inputs[b, t] - self.r[j], np.minimum(inputs[b, t] + self.r[j], self.play_operators[b, t - 1, j]))\n",
        "                \n",
        "        if self.first_batch:\n",
        "            self.first_batch = False\n",
        "        \n",
        "        self.prev_play_operators = self.play_operators[:, t, :]\n",
        "        print(self.prev_play_operators)\n",
        "        \n",
        "        # The following comment is used as a reference for the Play Operators definition\n",
        "        # P_j(t) = max(u(t) - r_j, min(u(t) + r_j, P_j(t - 1)))\n",
        "        # P_j(0) = max(u(0) - r_j, min(u(0) + r_j, k0))\n",
        "        # r_j = (j - 1)/n * (max(u(t)) - min(u(t)))  j = 1, ..., n\n",
        "        \n",
        "        return self.play_operators"
      ],
      "execution_count": 30,
      "outputs": []
    },
    {
      "cell_type": "code",
      "metadata": {
        "id": "-22i-kAirP7_"
      },
      "source": [
        "### DEBUG ###\n",
        "\n",
        "layer = PreisachMemoryLayer(n_operators=5)\n",
        "y = layer(np.array([[[0.],[0.]],[[0.],[0.]]]))"
      ],
      "execution_count": null,
      "outputs": []
    }
  ]
}