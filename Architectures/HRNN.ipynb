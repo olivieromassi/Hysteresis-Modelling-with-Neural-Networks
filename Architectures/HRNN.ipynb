{
  "nbformat": 4,
  "nbformat_minor": 0,
  "metadata": {
    "colab": {
      "name": "HRNN.ipynb",
      "provenance": [],
      "authorship_tag": "ABX9TyOBsfhLcRtTfcjQxMke690m",
      "include_colab_link": true
    },
    "kernelspec": {
      "name": "python3",
      "display_name": "Python 3"
    },
    "language_info": {
      "name": "python"
    }
  },
  "cells": [
    {
      "cell_type": "markdown",
      "metadata": {
        "id": "view-in-github",
        "colab_type": "text"
      },
      "source": [
        "<a href=\"https://colab.research.google.com/github/olivieromassi/Hysteresis-Modelling-with-Neural-Networks/blob/main/HRNN.ipynb\" target=\"_parent\"><img src=\"https://colab.research.google.com/assets/colab-badge.svg\" alt=\"Open In Colab\"/></a>"
      ]
    },
    {
      "cell_type": "code",
      "metadata": {
        "id": "rtLLrz5xATqm"
      },
      "source": [
        "import tensorflow as tf\n",
        "\n",
        "import pandas as pd\n",
        "import numpy as np\n",
        "import matplotlib.pyplot as plt\n",
        "from sklearn import preprocessing\n",
        "\n",
        "import os"
      ],
      "execution_count": 3,
      "outputs": []
    },
    {
      "cell_type": "code",
      "metadata": {
        "id": "HpCEAbmeAaF8"
      },
      "source": [
        "class HystereticRNNCell(tf.keras.layers.Layer):\n",
        "\n",
        "    def __init__(self, units, alpha, beta, chi=None, **kwargs):\n",
        "        self.units = units\n",
        "        self.state_size = units\n",
        "        self.alpha = alpha\n",
        "        self.beta = beta\n",
        "        self.chi = chi\n",
        "        if self.chi is None:\n",
        "            self.chi = 1e3\n",
        "        super(HystereticRNNCell, self).__init__(**kwargs)\n",
        "\n",
        "    def build(self, input_shape):\n",
        "        self.kernel = self.add_weight(shape=(input_shape[-1], self.units),\n",
        "                                      initializer='ones',\n",
        "                                      trainable=False,\n",
        "                                      name='kernel')\n",
        "        self.recurrent_kernel = self.add_weight(shape=(self.units,),\n",
        "                                      initializer='ones',\n",
        "                                      trainable=False,\n",
        "                                      name='recurrent_kernel')\n",
        "        self.built = True\n",
        "    \n",
        "    def call(self, inputs, states):\n",
        "        prev_output = states[0]\n",
        "        h = tf.keras.backend.dot(inputs, self.kernel)\n",
        "        output = self.hysteretic_activation(h, prev_output * self.recurrent_kernel)\n",
        "        return output, [output]\n",
        "\n",
        "    def hysteretic_activation(self, prev_output, input):\n",
        "        return (1 - prev_output)/(1 + np.exp((self.alpha - h)*self.chi)) + prev_output/(1 + np.exp((self.beta - h)*self.chi))\n"
      ],
      "execution_count": 14,
      "outputs": []
    }
  ]
}