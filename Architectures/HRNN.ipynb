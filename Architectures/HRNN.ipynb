{
  "nbformat": 4,
  "nbformat_minor": 0,
  "metadata": {
    "colab": {
      "name": "HRNN.ipynb",
      "provenance": [],
      "authorship_tag": "ABX9TyOXA6abMV2Fp45Sgp7w8P/U",
      "include_colab_link": true
    },
    "kernelspec": {
      "name": "python3",
      "display_name": "Python 3"
    },
    "language_info": {
      "name": "python"
    }
  },
  "cells": [
    {
      "cell_type": "markdown",
      "metadata": {
        "id": "view-in-github",
        "colab_type": "text"
      },
      "source": [
        "<a href=\"https://colab.research.google.com/github/olivieromassi/Hysteresis-Modelling-with-Neural-Networks/blob/main/HRNN.ipynb\" target=\"_parent\"><img src=\"https://colab.research.google.com/assets/colab-badge.svg\" alt=\"Open In Colab\"/></a>"
      ]
    },
    {
      "cell_type": "code",
      "metadata": {
        "id": "rtLLrz5xATqm"
      },
      "source": [
        "import tensorflow as tf\n",
        "\n",
        "import pandas as pd\n",
        "import numpy as np\n",
        "import matplotlib.pyplot as plt\n",
        "from sklearn import preprocessing\n",
        "\n",
        "import os"
      ],
      "execution_count": 46,
      "outputs": []
    },
    {
      "cell_type": "code",
      "metadata": {
        "id": "HpCEAbmeAaF8"
      },
      "source": [
        "class HystereticRNNCell(tf.keras.layers.Layer):\n",
        "\n",
        "    def __init__(self, alpha, beta, chi=None, **kwargs):\n",
        "        if alpha.shape != beta.shape:\n",
        "            raise ValueError(f'The dimensions of alpha and beta must be the same: alpha {alpha.shape} vs beta {beta.shape}')\n",
        "        self.units = len(alpha)\n",
        "        self.state_size = len(alpha)\n",
        "        self.alpha = alpha\n",
        "        self.beta = beta\n",
        "        self.chi = chi\n",
        "        if self.chi is None:\n",
        "            self.chi = 10\n",
        "        super(HystereticRNNCell, self).__init__(**kwargs)\n",
        "\n",
        "    def build(self, input_shape):\n",
        "        self.kernel = self.add_weight(shape=(input_shape[-1], self.units),\n",
        "                                      initializer='ones',\n",
        "                                      trainable=False,\n",
        "                                      name='kernel')\n",
        "        self.recurrent_kernel = self.add_weight(shape=(self.units,),\n",
        "                                      initializer='ones',\n",
        "                                      trainable=False,\n",
        "                                      name='recurrent_kernel')\n",
        "        self.built = True\n",
        "    \n",
        "    def call(self, inputs, states):\n",
        "        prev_output = states[0]\n",
        "        h = tf.keras.backend.dot(inputs, self.kernel)\n",
        "        prev_output = prev_output * self.recurrent_kernel\n",
        "        output = (1 - prev_output)/(1 + tf.math.exp((self.alpha - h)*self.chi)) + prev_output/(1 + tf.math.exp((self.beta - h)*self.chi))\n",
        "        return output, [output]"
      ],
      "execution_count": 58,
      "outputs": []
    },
    {
      "cell_type": "code",
      "metadata": {
        "id": "pr2ZABr8fQuQ"
      },
      "source": [
        "# Defining some of the Network and Sequence parameters:\n",
        "seq_len = 20\n",
        "batch_size = 1"
      ],
      "execution_count": 40,
      "outputs": []
    },
    {
      "cell_type": "markdown",
      "metadata": {
        "id": "FoAWo-TBhWeF"
      },
      "source": [
        "Defining the \"forward\" and \"reverse\" transformation values α and β according to the experiments conducted in the paper \"*Hysteretic recurrent neural networks: a\n",
        "tool for modeling hysteretic materials and\n",
        "systems*\""
      ]
    },
    {
      "cell_type": "code",
      "metadata": {
        "id": "xg3-2GUdg3Fx"
      },
      "source": [
        "beta_diff = [0.02, 0.17, 0.32, 0.47]\n",
        "alpha_range = np.arange(0, 1.01, 0.01)\n",
        "\n",
        "\n",
        "alpha = np.tile(alpha_range, len(beta_diff))\n",
        "beta = []\n",
        "\n",
        "for diff in beta_diff:\n",
        "    beta.extend(np.round(alpha_range - diff, 2))\n",
        "\n",
        "alpha = np.array(alpha)\n",
        "beta = np.array(beta)"
      ],
      "execution_count": 61,
      "outputs": []
    },
    {
      "cell_type": "code",
      "metadata": {
        "colab": {
          "base_uri": "https://localhost:8080/",
          "height": 564
        },
        "id": "2KW7KhTyfXW_",
        "outputId": "0da21d82-6ba2-4058-c531-ca37f98e3cd4"
      },
      "source": [
        "# Example: building a dRNN using the custom cell\n",
        "\n",
        "cell = HystereticRNNCell(alpha=alpha, beta=beta)\n",
        "\n",
        "inputs = tf.keras.layers.Input(shape=(seq_len, 1,), batch_size=batch_size)\n",
        "layer = tf.keras.layers.RNN(cell, return_sequences=True)(inputs)\n",
        "outputs = tf.keras.layers.Dense(1, activation='linear', use_bias=False, kernel_constraint=tf.keras.constraints.UnitNorm)(layer)\n",
        "\n",
        "\n",
        "model = tf.keras.Model(inputs=inputs, outputs=outputs, name='HRNN')\n",
        "model.summary()\n",
        "\n",
        "tf.keras.utils.plot_model(model, show_shapes=True)"
      ],
      "execution_count": 62,
      "outputs": [
        {
          "output_type": "stream",
          "name": "stdout",
          "text": [
            "Model: \"HRNN\"\n",
            "_________________________________________________________________\n",
            " Layer (type)                Output Shape              Param #   \n",
            "=================================================================\n",
            " input_9 (InputLayer)        [(1, 20, 1)]              0         \n",
            "                                                                 \n",
            " rnn_8 (RNN)                 (1, 20, 404)              808       \n",
            "                                                                 \n",
            " dense_5 (Dense)             (1, 20, 1)                404       \n",
            "                                                                 \n",
            "=================================================================\n",
            "Total params: 1,212\n",
            "Trainable params: 404\n",
            "Non-trainable params: 808\n",
            "_________________________________________________________________\n"
          ]
        },
        {
          "output_type": "execute_result",
          "data": {
            "image/png": "[encoded data removed]",
            "text/plain": [
              "<IPython.core.display.Image object>"
            ]
          },
          "metadata": {},
          "execution_count": 62
        }
      ]
    },
    {
      "cell_type": "code",
      "metadata": {
        "id": "jyW47wxywWtb"
      },
      "source": [
        ""
      ],
      "execution_count": null,
      "outputs": []
    }
  ]
}