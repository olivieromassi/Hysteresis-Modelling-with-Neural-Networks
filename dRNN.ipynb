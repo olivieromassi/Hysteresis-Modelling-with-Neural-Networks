{
  "nbformat": 4,
  "nbformat_minor": 0,
  "metadata": {
    "colab": {
      "name": "dRNN.ipynb",
      "provenance": [],
      "collapsed_sections": [],
      "authorship_tag": "ABX9TyOAPNuPBgPLlrdS5hiJTxVN",
      "include_colab_link": true
    },
    "kernelspec": {
      "name": "python3",
      "display_name": "Python 3"
    },
    "language_info": {
      "name": "python"
    }
  },
  "cells": [
    {
      "cell_type": "markdown",
      "metadata": {
        "id": "view-in-github",
        "colab_type": "text"
      },
      "source": [
        "<a href=\"https://colab.research.google.com/github/olivieromassi/Hysteresis-Modelling-with-Neural-Networks/blob/main/dRNN.ipynb\" target=\"_parent\"><img src=\"https://colab.research.google.com/assets/colab-badge.svg\" alt=\"Open In Colab\"/></a>"
      ]
    },
    {
      "cell_type": "code",
      "metadata": {
        "id": "md_0ZRFxwf8K"
      },
      "source": [
        "import tensorflow as tf\n",
        "import numpy as np"
      ],
      "execution_count": 1,
      "outputs": []
    },
    {
      "cell_type": "markdown",
      "metadata": {
        "id": "Cs3TpUuURSvd"
      },
      "source": [
        "# Subclassing tf.keras.layers.Layer\n",
        "Implementing subclassing of the tf.keras.layers.Layer Class through the newly defined DiagonalRNNCell. \n",
        "\n",
        "The code for the cell is mainly based on https://github.com/keras-team/keras/blob/v2.7.0/keras/layers/recurrent.py#L1255-L1456"
      ]
    },
    {
      "cell_type": "code",
      "metadata": {
        "id": "N9rUWAJZwjih"
      },
      "source": [
        "class DiagonalRNNCell(tf.keras.layers.Layer):\n",
        "    def __init__(self,\n",
        "                 units,\n",
        "                 activation='tanh',\n",
        "                 use_bias=True,\n",
        "                 kernel_initializer='glorot_uniform',\n",
        "                 recurrent_initializer='glorot_uniform',\n",
        "                 bias_initializer='zeros',\n",
        "                 **kwargs):\n",
        "        if units < 0:\n",
        "           raise ValueError(f'Received an invalid value for argument `units`, '\n",
        "                       f'expected a positive integer, got {units}.') \n",
        "        self.units = units\n",
        "        self.activation = tf.keras.activations.get(activation)\n",
        "        self.use_bias = use_bias\n",
        "\n",
        "        self.kernel_initializer = tf.keras.initializers.get(kernel_initializer)\n",
        "        self.recurrent_initializer = tf.keras.initializers.get(recurrent_initializer)\n",
        "        self.bias_initializer = tf.keras.initializers.get(bias_initializer)\n",
        "\n",
        "        self.state_size = self.units\n",
        "        self.output_size = self.units\n",
        "        \n",
        "        super(DiagonalRNNCell, self).__init__(**kwargs)\n",
        "    \n",
        "    def build(self, input_shape):\n",
        "        self.kernel = self.add_weight(shape=(input_shape[-1], self.units),\n",
        "                                      initializer=self.kernel_initializer,\n",
        "                                      name='kernel')\n",
        "        # The recurrent kernel shape is a vector and not a matrix\n",
        "        self.recurrent_kernel = self.add_weight(shape=(self.units,),\n",
        "                                                initializer=self.recurrent_initializer,\n",
        "                                                name='recurrent_kernel')\n",
        "        if self.use_bias:\n",
        "            self.bias = self.add_weight(shape=(self.units,),\n",
        "                                        initializer=self.bias_initializer,\n",
        "                                        name='bias')\n",
        "        else:\n",
        "            self.bias = None\n",
        "        self.built = True\n",
        "    \n",
        "    def call(self, inputs, states):\n",
        "        prev_output = states[0]\n",
        "        h = tf.keras.backend.dot(inputs, self.kernel)\n",
        "        if self.bias is not None:\n",
        "            h = tf.keras.backend.bias_add(h, self.bias)\n",
        "        # The output is computed through an element-wise multiplication\n",
        "        output = h + prev_output * self.recurrent_kernel\n",
        "        if self.activation is not None:\n",
        "            output = self.activation(output)\n",
        "        return output, [output]"
      ],
      "execution_count": 22,
      "outputs": []
    },
    {
      "cell_type": "markdown",
      "metadata": {
        "id": "EPh5AcQhXtZ6"
      },
      "source": [
        "# Subclassing tf.keras.layers.SimpleRNNCell\n",
        "Implementing subclassing of the tf.keras.layers.SimpleRNNCell Class through the newly defined DiagonalRNNCell.\n",
        "\n",
        "The code for the cell is mainly based on https://github.com/keras-team/keras/blob/v2.7.0/keras/layers/recurrent.py#L1255-L1456"
      ]
    },
    {
      "cell_type": "code",
      "metadata": {
        "id": "GQwuvuUrYHGP"
      },
      "source": [
        "class DiagonalRNNCell(tf.keras.layers.SimpleRNNCell):\n",
        "    def __init__(self, **kwargs):\n",
        "        super(DiagonalRNNCell, self).__init__(recurrent_initializer='glorot_uniform',\n",
        "                                              **kwargs)\n",
        "    \n",
        "    # Overriding the build method \n",
        "    def build(self, input_shape):\n",
        "        super(DiagonalRNNCell, self).build(input_shape)\n",
        "\n",
        "        # Override only the recurrent kernel \n",
        "        self.recurrent_kernel = self.add_weight(\n",
        "            shape=(self.units,),\n",
        "            name='recurrent_kernel',\n",
        "            initializer=self.recurrent_initializer,\n",
        "            regularizer=self.recurrent_regularizer,\n",
        "            constraint=self.recurrent_constraint)\n",
        "\n",
        "    # Overriding the call method    \n",
        "    def call(self, inputs, states, training=None):\n",
        "        prev_output = states[0] if tf.nest.is_nested(states) else states\n",
        "        dp_mask = self.get_dropout_mask_for_cell(inputs, training)\n",
        "        rec_dp_mask = self.get_recurrent_dropout_mask_for_cell(\n",
        "            prev_output, training)\n",
        "\n",
        "        if dp_mask is not None:\n",
        "            h = tf.keras.backend.dot(inputs * dp_mask, self.kernel)\n",
        "        else:\n",
        "            h = tf.keras.backend.dot(inputs, self.kernel)\n",
        "        if self.bias is not None:\n",
        "            h = tf.keras.backend.bias_add(h, self.bias)\n",
        "\n",
        "        if rec_dp_mask is not None:\n",
        "            prev_output = prev_output * rec_dp_mask\n",
        "        # The Tensor product becomes a vector \"element-wise\" product\n",
        "        output = h + prev_output * self.recurrent_kernel\n",
        "        if self.activation is not None:\n",
        "            output = self.activation(output)\n",
        "\n",
        "        new_state = [output] if tf.nest.is_nested(states) else output\n",
        "        return output, new_state"
      ],
      "execution_count": 2,
      "outputs": []
    },
    {
      "cell_type": "code",
      "metadata": {
        "colab": {
          "base_uri": "https://localhost:8080/"
        },
        "id": "ggy2NZo92-mI",
        "outputId": "5b26f98a-da3a-4b53-c6be-8f8df3aa5062"
      },
      "source": [
        "# Example: building a dRNN using the custom cell\n",
        "\n",
        "cell = DiagonalRNNCell(units=256) # Inspired from \"Diagonal Recurrent Neural Network-based Hysteresis Modeling\"\n",
        "\n",
        "inputs = tf.keras.layers.Input(shape=(1,1,))\n",
        "layer = tf.keras.layers.RNN(cell)(inputs)\n",
        "outputs = tf.keras.layers.Dense(1, activation='linear')(layer)\n",
        "\n",
        "\n",
        "model = tf.keras.Model(inputs=inputs, outputs=outputs, name='dRNN')\n",
        "model.summary()"
      ],
      "execution_count": 3,
      "outputs": [
        {
          "output_type": "stream",
          "name": "stdout",
          "text": [
            "Model: \"dRNN\"\n",
            "_________________________________________________________________\n",
            "Layer (type)                 Output Shape              Param #   \n",
            "=================================================================\n",
            "input_1 (InputLayer)         [(None, 1, 1)]            0         \n",
            "_________________________________________________________________\n",
            "rnn (RNN)                    (None, 256)               768       \n",
            "_________________________________________________________________\n",
            "dense (Dense)                (None, 1)                 257       \n",
            "=================================================================\n",
            "Total params: 1,025\n",
            "Trainable params: 1,025\n",
            "Non-trainable params: 0\n",
            "_________________________________________________________________\n"
          ]
        }
      ]
    },
    {
      "cell_type": "code",
      "metadata": {
        "id": "glFTXDOfHHCD"
      },
      "source": [
        "model.compile(loss=tf.keras.losses.MSE, optimizer=tf.keras.optimizers.Adam(), metrics=[tf.metrics.MeanAbsoluteError()]) # Inspired from \"Diagonal Recurrent Neural Network-based Hysteresis Modeling\""
      ],
      "execution_count": 4,
      "outputs": []
    },
    {
      "cell_type": "markdown",
      "metadata": {
        "id": "AhyuP5AaQDOw"
      },
      "source": [
        "# Time Series Prediction with LSTM Recurrent Neural Networks in Python with Keras\n",
        "\n",
        "Applying the model developed to the Scenario described at the following link: https://machinelearningmastery.com/time-series-prediction-lstm-recurrent-neural-networks-python-keras/ \n",
        "\n",
        "The problem we are going to look at in this post is the \"International Airline Passengers prediction problem\".\n",
        "\n",
        "This is a problem where, given a year and a month, the task is to predict the number of international airline passengers in units of 1,000. The data ranges from January 1949 to December 1960, or 12 years, with 144 observations."
      ]
    },
    {
      "cell_type": "code",
      "metadata": {
        "colab": {
          "base_uri": "https://localhost:8080/"
        },
        "id": "l1S6-qOlVA-D",
        "outputId": "ba650be0-6769-40c4-f200-da9fa1f54dd7"
      },
      "source": [
        "!wget https://raw.githubusercontent.com/jbrownlee/Datasets/master/airline-passengers.csv"
      ],
      "execution_count": 5,
      "outputs": [
        {
          "output_type": "stream",
          "name": "stdout",
          "text": [
            "--2021-11-09 16:55:24--  https://raw.githubusercontent.com/jbrownlee/Datasets/master/airline-passengers.csv\n",
            "Resolving raw.githubusercontent.com (raw.githubusercontent.com)... 185.199.110.133, 185.199.109.133, 185.199.111.133, ...\n",
            "Connecting to raw.githubusercontent.com (raw.githubusercontent.com)|185.199.110.133|:443... connected.\n",
            "HTTP request sent, awaiting response... 200 OK\n",
            "Length: 2180 (2.1K) [text/plain]\n",
            "Saving to: ‘airline-passengers.csv’\n",
            "\n",
            "\rairline-passengers.   0%[                    ]       0  --.-KB/s               \rairline-passengers. 100%[===================>]   2.13K  --.-KB/s    in 0s      \n",
            "\n",
            "2021-11-09 16:55:24 (40.4 MB/s) - ‘airline-passengers.csv’ saved [2180/2180]\n",
            "\n"
          ]
        }
      ]
    },
    {
      "cell_type": "code",
      "metadata": {
        "colab": {
          "base_uri": "https://localhost:8080/",
          "height": 265
        },
        "id": "Ohmw1ceAMIoN",
        "outputId": "09492a7d-17ac-474f-f6e3-cc1910814b76"
      },
      "source": [
        "import pandas\n",
        "import matplotlib.pyplot as plt\n",
        "\n",
        "dataset = pandas.read_csv('airline-passengers.csv', usecols=[1], engine='python')\n",
        "plt.plot(dataset)\n",
        "plt.show()"
      ],
      "execution_count": 6,
      "outputs": [
        {
          "output_type": "display_data",
          "data": {
            "image/png": "[encoded data removed]",
            "text/plain": [
              "<Figure size 432x288 with 1 Axes>"
            ]
          },
          "metadata": {
            "needs_background": "light"
          }
        }
      ]
    },
    {
      "cell_type": "code",
      "metadata": {
        "colab": {
          "base_uri": "https://localhost:8080/"
        },
        "id": "LbmYLgqLMgFH",
        "outputId": "e0866626-d005-4bf8-fbb2-138219e981bb"
      },
      "source": [
        "from sklearn.preprocessing import MinMaxScaler\n",
        "from sklearn.metrics import mean_squared_error\n",
        "\n",
        "# load the dataset\n",
        "dataframe = pandas.read_csv('airline-passengers.csv', usecols=[1], engine='python')\n",
        "dataset = dataframe.values\n",
        "dataset = dataset.astype('float32')\n",
        "\n",
        "\n",
        "# normalize the dataset\n",
        "scaler = MinMaxScaler(feature_range=(0, 1))\n",
        "dataset = scaler.fit_transform(dataset)\n",
        "\n",
        "\n",
        "# split into train and test sets\n",
        "train_size = int(len(dataset) * 0.67)\n",
        "test_size = len(dataset) - train_size\n",
        "train, test = dataset[0:train_size,:], dataset[train_size:len(dataset),:]\n",
        "print(len(train), len(test))\n",
        "\n",
        "\n",
        "# convert an array of values into a dataset matrix\n",
        "def create_dataset(dataset, look_back=1):\n",
        "\tdataX, dataY = [], []\n",
        "\tfor i in range(len(dataset)-look_back-1):\n",
        "\t\ta = dataset[i:(i+look_back), 0]\n",
        "\t\tdataX.append(a)\n",
        "\t\tdataY.append(dataset[i + look_back, 0])\n",
        "\treturn np.array(dataX), np.array(dataY)\n",
        " \n",
        "\n",
        "# reshape into X=t and Y=t+1\n",
        "look_back = 1\n",
        "trainX, trainY = create_dataset(train, look_back)\n",
        "testX, testY = create_dataset(test, look_back)\n",
        "\n",
        "# reshape input to be [samples, time steps, features]\n",
        "trainX = np.reshape(trainX, (trainX.shape[0], 1, trainX.shape[1]))\n",
        "testX = np.reshape(testX, (testX.shape[0], 1, testX.shape[1]))"
      ],
      "execution_count": 7,
      "outputs": [
        {
          "output_type": "stream",
          "name": "stdout",
          "text": [
            "96 48\n"
          ]
        }
      ]
    },
    {
      "cell_type": "code",
      "metadata": {
        "colab": {
          "base_uri": "https://localhost:8080/"
        },
        "id": "T9Qn17VBNbcu",
        "outputId": "607ba77d-d20e-4bdb-9b69-164073de3aa9"
      },
      "source": [
        "model.fit(trainX, trainY, epochs=100, batch_size=1, verbose=2)"
      ],
      "execution_count": 8,
      "outputs": [
        {
          "output_type": "stream",
          "name": "stdout",
          "text": [
            "Epoch 1/100\n",
            "94/94 - 1s - loss: 0.0069 - mean_absolute_error: 0.0625\n",
            "Epoch 2/100\n",
            "94/94 - 0s - loss: 0.0024 - mean_absolute_error: 0.0386\n",
            "Epoch 3/100\n",
            "94/94 - 0s - loss: 0.0028 - mean_absolute_error: 0.0411\n",
            "Epoch 4/100\n",
            "94/94 - 0s - loss: 0.0023 - mean_absolute_error: 0.0379\n",
            "Epoch 5/100\n",
            "94/94 - 0s - loss: 0.0025 - mean_absolute_error: 0.0396\n",
            "Epoch 6/100\n",
            "94/94 - 0s - loss: 0.0025 - mean_absolute_error: 0.0387\n",
            "Epoch 7/100\n",
            "94/94 - 0s - loss: 0.0021 - mean_absolute_error: 0.0382\n",
            "Epoch 8/100\n",
            "94/94 - 0s - loss: 0.0024 - mean_absolute_error: 0.0380\n",
            "Epoch 9/100\n",
            "94/94 - 0s - loss: 0.0023 - mean_absolute_error: 0.0376\n",
            "Epoch 10/100\n",
            "94/94 - 0s - loss: 0.0024 - mean_absolute_error: 0.0386\n",
            "Epoch 11/100\n",
            "94/94 - 0s - loss: 0.0026 - mean_absolute_error: 0.0406\n",
            "Epoch 12/100\n",
            "94/94 - 0s - loss: 0.0030 - mean_absolute_error: 0.0429\n",
            "Epoch 13/100\n",
            "94/94 - 0s - loss: 0.0027 - mean_absolute_error: 0.0405\n",
            "Epoch 14/100\n",
            "94/94 - 0s - loss: 0.0022 - mean_absolute_error: 0.0368\n",
            "Epoch 15/100\n",
            "94/94 - 0s - loss: 0.0024 - mean_absolute_error: 0.0381\n",
            "Epoch 16/100\n",
            "94/94 - 0s - loss: 0.0022 - mean_absolute_error: 0.0371\n",
            "Epoch 17/100\n",
            "94/94 - 0s - loss: 0.0023 - mean_absolute_error: 0.0374\n",
            "Epoch 18/100\n",
            "94/94 - 0s - loss: 0.0026 - mean_absolute_error: 0.0409\n",
            "Epoch 19/100\n",
            "94/94 - 0s - loss: 0.0024 - mean_absolute_error: 0.0387\n",
            "Epoch 20/100\n",
            "94/94 - 0s - loss: 0.0024 - mean_absolute_error: 0.0379\n",
            "Epoch 21/100\n",
            "94/94 - 0s - loss: 0.0022 - mean_absolute_error: 0.0381\n",
            "Epoch 22/100\n",
            "94/94 - 0s - loss: 0.0026 - mean_absolute_error: 0.0394\n",
            "Epoch 23/100\n",
            "94/94 - 0s - loss: 0.0025 - mean_absolute_error: 0.0384\n",
            "Epoch 24/100\n",
            "94/94 - 0s - loss: 0.0025 - mean_absolute_error: 0.0380\n",
            "Epoch 25/100\n",
            "94/94 - 0s - loss: 0.0022 - mean_absolute_error: 0.0375\n",
            "Epoch 26/100\n",
            "94/94 - 0s - loss: 0.0024 - mean_absolute_error: 0.0387\n",
            "Epoch 27/100\n",
            "94/94 - 0s - loss: 0.0024 - mean_absolute_error: 0.0393\n",
            "Epoch 28/100\n",
            "94/94 - 0s - loss: 0.0022 - mean_absolute_error: 0.0361\n",
            "Epoch 29/100\n",
            "94/94 - 0s - loss: 0.0023 - mean_absolute_error: 0.0369\n",
            "Epoch 30/100\n",
            "94/94 - 0s - loss: 0.0021 - mean_absolute_error: 0.0371\n",
            "Epoch 31/100\n",
            "94/94 - 0s - loss: 0.0023 - mean_absolute_error: 0.0377\n",
            "Epoch 32/100\n",
            "94/94 - 0s - loss: 0.0023 - mean_absolute_error: 0.0388\n",
            "Epoch 33/100\n",
            "94/94 - 0s - loss: 0.0021 - mean_absolute_error: 0.0362\n",
            "Epoch 34/100\n",
            "94/94 - 0s - loss: 0.0024 - mean_absolute_error: 0.0380\n",
            "Epoch 35/100\n",
            "94/94 - 0s - loss: 0.0022 - mean_absolute_error: 0.0377\n",
            "Epoch 36/100\n",
            "94/94 - 0s - loss: 0.0023 - mean_absolute_error: 0.0377\n",
            "Epoch 37/100\n",
            "94/94 - 0s - loss: 0.0022 - mean_absolute_error: 0.0361\n",
            "Epoch 38/100\n",
            "94/94 - 0s - loss: 0.0024 - mean_absolute_error: 0.0378\n",
            "Epoch 39/100\n",
            "94/94 - 0s - loss: 0.0022 - mean_absolute_error: 0.0372\n",
            "Epoch 40/100\n",
            "94/94 - 0s - loss: 0.0023 - mean_absolute_error: 0.0382\n",
            "Epoch 41/100\n",
            "94/94 - 0s - loss: 0.0022 - mean_absolute_error: 0.0370\n",
            "Epoch 42/100\n",
            "94/94 - 0s - loss: 0.0024 - mean_absolute_error: 0.0378\n",
            "Epoch 43/100\n",
            "94/94 - 0s - loss: 0.0021 - mean_absolute_error: 0.0361\n",
            "Epoch 44/100\n",
            "94/94 - 0s - loss: 0.0022 - mean_absolute_error: 0.0371\n",
            "Epoch 45/100\n",
            "94/94 - 0s - loss: 0.0025 - mean_absolute_error: 0.0395\n",
            "Epoch 46/100\n",
            "94/94 - 0s - loss: 0.0022 - mean_absolute_error: 0.0380\n",
            "Epoch 47/100\n",
            "94/94 - 0s - loss: 0.0023 - mean_absolute_error: 0.0386\n",
            "Epoch 48/100\n",
            "94/94 - 0s - loss: 0.0023 - mean_absolute_error: 0.0376\n",
            "Epoch 49/100\n",
            "94/94 - 0s - loss: 0.0023 - mean_absolute_error: 0.0375\n",
            "Epoch 50/100\n",
            "94/94 - 0s - loss: 0.0021 - mean_absolute_error: 0.0366\n",
            "Epoch 51/100\n",
            "94/94 - 0s - loss: 0.0022 - mean_absolute_error: 0.0377\n",
            "Epoch 52/100\n",
            "94/94 - 0s - loss: 0.0023 - mean_absolute_error: 0.0381\n",
            "Epoch 53/100\n",
            "94/94 - 0s - loss: 0.0023 - mean_absolute_error: 0.0385\n",
            "Epoch 54/100\n",
            "94/94 - 0s - loss: 0.0022 - mean_absolute_error: 0.0364\n",
            "Epoch 55/100\n",
            "94/94 - 0s - loss: 0.0021 - mean_absolute_error: 0.0376\n",
            "Epoch 56/100\n",
            "94/94 - 0s - loss: 0.0024 - mean_absolute_error: 0.0393\n",
            "Epoch 57/100\n",
            "94/94 - 0s - loss: 0.0021 - mean_absolute_error: 0.0373\n",
            "Epoch 58/100\n",
            "94/94 - 0s - loss: 0.0022 - mean_absolute_error: 0.0366\n",
            "Epoch 59/100\n",
            "94/94 - 0s - loss: 0.0023 - mean_absolute_error: 0.0382\n",
            "Epoch 60/100\n",
            "94/94 - 0s - loss: 0.0023 - mean_absolute_error: 0.0386\n",
            "Epoch 61/100\n",
            "94/94 - 0s - loss: 0.0022 - mean_absolute_error: 0.0373\n",
            "Epoch 62/100\n",
            "94/94 - 0s - loss: 0.0023 - mean_absolute_error: 0.0385\n",
            "Epoch 63/100\n",
            "94/94 - 0s - loss: 0.0022 - mean_absolute_error: 0.0358\n",
            "Epoch 64/100\n",
            "94/94 - 0s - loss: 0.0021 - mean_absolute_error: 0.0361\n",
            "Epoch 65/100\n",
            "94/94 - 0s - loss: 0.0023 - mean_absolute_error: 0.0386\n",
            "Epoch 66/100\n",
            "94/94 - 0s - loss: 0.0022 - mean_absolute_error: 0.0364\n",
            "Epoch 67/100\n",
            "94/94 - 0s - loss: 0.0023 - mean_absolute_error: 0.0383\n",
            "Epoch 68/100\n",
            "94/94 - 0s - loss: 0.0025 - mean_absolute_error: 0.0396\n",
            "Epoch 69/100\n",
            "94/94 - 0s - loss: 0.0022 - mean_absolute_error: 0.0367\n",
            "Epoch 70/100\n",
            "94/94 - 0s - loss: 0.0021 - mean_absolute_error: 0.0370\n",
            "Epoch 71/100\n",
            "94/94 - 0s - loss: 0.0022 - mean_absolute_error: 0.0373\n",
            "Epoch 72/100\n",
            "94/94 - 0s - loss: 0.0022 - mean_absolute_error: 0.0378\n",
            "Epoch 73/100\n",
            "94/94 - 0s - loss: 0.0021 - mean_absolute_error: 0.0376\n",
            "Epoch 74/100\n",
            "94/94 - 0s - loss: 0.0023 - mean_absolute_error: 0.0369\n",
            "Epoch 75/100\n",
            "94/94 - 0s - loss: 0.0028 - mean_absolute_error: 0.0421\n",
            "Epoch 76/100\n",
            "94/94 - 0s - loss: 0.0021 - mean_absolute_error: 0.0361\n",
            "Epoch 77/100\n",
            "94/94 - 0s - loss: 0.0021 - mean_absolute_error: 0.0358\n",
            "Epoch 78/100\n",
            "94/94 - 0s - loss: 0.0022 - mean_absolute_error: 0.0367\n",
            "Epoch 79/100\n",
            "94/94 - 0s - loss: 0.0020 - mean_absolute_error: 0.0358\n",
            "Epoch 80/100\n",
            "94/94 - 0s - loss: 0.0021 - mean_absolute_error: 0.0364\n",
            "Epoch 81/100\n",
            "94/94 - 0s - loss: 0.0022 - mean_absolute_error: 0.0376\n",
            "Epoch 82/100\n",
            "94/94 - 0s - loss: 0.0023 - mean_absolute_error: 0.0387\n",
            "Epoch 83/100\n",
            "94/94 - 0s - loss: 0.0024 - mean_absolute_error: 0.0376\n",
            "Epoch 84/100\n",
            "94/94 - 0s - loss: 0.0022 - mean_absolute_error: 0.0363\n",
            "Epoch 85/100\n",
            "94/94 - 0s - loss: 0.0023 - mean_absolute_error: 0.0381\n",
            "Epoch 86/100\n",
            "94/94 - 0s - loss: 0.0025 - mean_absolute_error: 0.0391\n",
            "Epoch 87/100\n",
            "94/94 - 0s - loss: 0.0022 - mean_absolute_error: 0.0365\n",
            "Epoch 88/100\n",
            "94/94 - 0s - loss: 0.0021 - mean_absolute_error: 0.0361\n",
            "Epoch 89/100\n",
            "94/94 - 0s - loss: 0.0022 - mean_absolute_error: 0.0364\n",
            "Epoch 90/100\n",
            "94/94 - 0s - loss: 0.0023 - mean_absolute_error: 0.0388\n",
            "Epoch 91/100\n",
            "94/94 - 0s - loss: 0.0022 - mean_absolute_error: 0.0367\n",
            "Epoch 92/100\n",
            "94/94 - 0s - loss: 0.0022 - mean_absolute_error: 0.0372\n",
            "Epoch 93/100\n",
            "94/94 - 0s - loss: 0.0021 - mean_absolute_error: 0.0364\n",
            "Epoch 94/100\n",
            "94/94 - 0s - loss: 0.0021 - mean_absolute_error: 0.0371\n",
            "Epoch 95/100\n",
            "94/94 - 0s - loss: 0.0022 - mean_absolute_error: 0.0380\n",
            "Epoch 96/100\n",
            "94/94 - 0s - loss: 0.0021 - mean_absolute_error: 0.0370\n",
            "Epoch 97/100\n",
            "94/94 - 0s - loss: 0.0023 - mean_absolute_error: 0.0385\n",
            "Epoch 98/100\n",
            "94/94 - 0s - loss: 0.0022 - mean_absolute_error: 0.0380\n",
            "Epoch 99/100\n",
            "94/94 - 0s - loss: 0.0022 - mean_absolute_error: 0.0380\n",
            "Epoch 100/100\n",
            "94/94 - 0s - loss: 0.0021 - mean_absolute_error: 0.0352\n"
          ]
        },
        {
          "output_type": "execute_result",
          "data": {
            "text/plain": [
              "<keras.callbacks.History at 0x7f9ee01e2d10>"
            ]
          },
          "metadata": {},
          "execution_count": 8
        }
      ]
    },
    {
      "cell_type": "code",
      "metadata": {
        "colab": {
          "base_uri": "https://localhost:8080/"
        },
        "id": "qj0e-QklNb-H",
        "outputId": "3a0fd78d-cb23-4103-b620-68d1024b85de"
      },
      "source": [
        "# make predictions\n",
        "trainPredict = model.predict(trainX)\n",
        "testPredict = model.predict(testX)\n",
        "# invert predictions\n",
        "trainPredict = scaler.inverse_transform(trainPredict)\n",
        "trainY = scaler.inverse_transform([trainY])\n",
        "testPredict = scaler.inverse_transform(testPredict)\n",
        "testY = scaler.inverse_transform([testY])\n",
        "# calculate root mean squared error\n",
        "trainScore = np.sqrt(mean_squared_error(trainY[0], trainPredict[:,0]))\n",
        "print('Train Score: %.2f RMSE' % (trainScore))\n",
        "testScore = np.sqrt(mean_squared_error(testY[0], testPredict[:,0]))\n",
        "print('Test Score: %.2f RMSE' % (testScore))"
      ],
      "execution_count": 9,
      "outputs": [
        {
          "output_type": "stream",
          "name": "stdout",
          "text": [
            "Train Score: 23.09 RMSE\n",
            "Test Score: 49.97 RMSE\n"
          ]
        }
      ]
    },
    {
      "cell_type": "code",
      "metadata": {
        "colab": {
          "base_uri": "https://localhost:8080/",
          "height": 265
        },
        "id": "hjkdBPORNv4X",
        "outputId": "58b7abf4-a97a-415a-992e-63fdc6b1c60c"
      },
      "source": [
        "# shift train predictions for plotting\n",
        "trainPredictPlot = np.empty_like(dataset)\n",
        "trainPredictPlot[:, :] = np.nan\n",
        "trainPredictPlot[look_back:len(trainPredict)+look_back, :] = trainPredict\n",
        "# shift test predictions for plotting\n",
        "testPredictPlot = np.empty_like(dataset)\n",
        "testPredictPlot[:, :] = np.nan\n",
        "testPredictPlot[len(trainPredict)+(look_back*2)+1:len(dataset)-1, :] = testPredict\n",
        "# plot baseline and predictions\n",
        "plt.plot(scaler.inverse_transform(dataset))\n",
        "plt.plot(trainPredictPlot)\n",
        "plt.plot(testPredictPlot)\n",
        "plt.show()"
      ],
      "execution_count": 10,
      "outputs": [
        {
          "output_type": "display_data",
          "data": {
            "image/png": "[encoded data removed]",
            "text/plain": [
              "<Figure size 432x288 with 1 Axes>"
            ]
          },
          "metadata": {
            "needs_background": "light"
          }
        }
      ]
    }
  ]
}